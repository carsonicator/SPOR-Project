{
 "cells": [
  {
   "cell_type": "code",
   "execution_count": 3,
   "metadata": {},
   "outputs": [],
   "source": [
    "from neo4j.v1 import GraphDatabase, basic_auth"
   ]
  },
  {
   "cell_type": "code",
   "execution_count": 4,
   "metadata": {},
   "outputs": [],
   "source": [
    "uri = \"bolt://localhost:7687\"\n",
    "driver = GraphDatabase.driver(uri, auth=(\"neo4j\", \"sportest2019\"))\n",
    "session = driver.session()"
   ]
  },
  {
   "cell_type": "code",
   "execution_count": 5,
   "metadata": {},
   "outputs": [],
   "source": [
    "search_term = \"P013\"\n",
    "result = session.run(\"MATCH (p:Provider)-[:INVOLVED_IN]-(e:Encounter) WHERE p.id CONTAINS {term} \"\n",
    "                     \"RETURN e.deid as deid, e.acuity as acuity, e.RAF as RAF, e.outcome as outcome\", {\"term\": search_term})\n"
   ]
  },
  {
   "cell_type": "code",
   "execution_count": 6,
   "metadata": {},
   "outputs": [
    {
     "data": {
      "text/plain": [
       "<neo4j.v1.result.BoltStatementResult at 0x10f689b00>"
      ]
     },
     "execution_count": 6,
     "metadata": {},
     "output_type": "execute_result"
    }
   ],
   "source": [
    "result"
   ]
  },
  {
   "cell_type": "code",
   "execution_count": 7,
   "metadata": {},
   "outputs": [
    {
     "name": "stdout",
     "output_type": "stream",
     "text": [
      "List of encounters for provider 'P013':\n",
      "E011 4 - Non-Urgent 0.1 0\n",
      "E014 4 - Non-Urgent 0.1 0\n",
      "E015 4 - Non-Urgent 0.6 1\n",
      "E012 4 - Non-Urgent 0.1 0\n",
      "E013 4 - Non-Urgent 0.1 0\n"
     ]
    }
   ],
   "source": [
    "retained_result = list(result)\n",
    "session.close()\n",
    "print(\"List of encounters for provider %r:\" % search_term)\n",
    "for record in retained_result:\n",
    "    print(\"%s %s %s %s\" % (record[\"deid\"], record[\"acuity\"], record[\"RAF\"], record[\"outcome\"]))\n"
   ]
  },
  {
   "cell_type": "code",
   "execution_count": null,
   "metadata": {},
   "outputs": [],
   "source": []
  }
 ],
 "metadata": {
  "kernelspec": {
   "display_name": "Python 3",
   "language": "python",
   "name": "python3"
  },
  "language_info": {
   "codemirror_mode": {
    "name": "ipython",
    "version": 3
   },
   "file_extension": ".py",
   "mimetype": "text/x-python",
   "name": "python",
   "nbconvert_exporter": "python",
   "pygments_lexer": "ipython3",
   "version": "3.6.4"
  }
 },
 "nbformat": 4,
 "nbformat_minor": 2
}
